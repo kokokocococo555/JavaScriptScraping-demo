{
 "cells": [
  {
   "cell_type": "markdown",
   "metadata": {},
   "source": [
    "# JavaScriptでコンテンツが生成されるサイトのスクレイピング【Selenium+PhantomJS】"
   ]
  },
  {
   "cell_type": "markdown",
   "metadata": {},
   "source": [
    "## 流れ"
   ]
  },
  {
   "cell_type": "markdown",
   "metadata": {},
   "source": [
    "1. SeleniumとPhantomJSでJavaScriptサイトからHTMLをスクレイピング\n",
    "2. 抽出したHTMLをBeautifulSoup4でパースし、必要な情報を抽出\n",
    "3. MongoDBにデータを保存\n",
    "4. csv形式でデータを保存\n",
    "5. RSS形式でデータを保存"
   ]
  },
  {
   "cell_type": "markdown",
   "metadata": {},
   "source": [
    "## SeleniumとPhantomJSでJavaScriptサイトからHTMLをスクレイピング"
   ]
  },
  {
   "cell_type": "markdown",
   "metadata": {},
   "source": [
    "- pip install selenium\n",
    "- PhantomJSのインストール"
   ]
  },
  {
   "cell_type": "markdown",
   "metadata": {},
   "source": [
    "※`AttributeError: 'NoneType' object has no attribute 'attrs'`が出る場合、`sleep_time`の数を大きくして再実行してみてください。"
   ]
  },
  {
   "cell_type": "code",
   "execution_count": null,
   "metadata": {},
   "outputs": [],
   "source": [
    "import sys\n",
    "import time\n",
    "from selenium import webdriver # pip install selenium\n",
    "from selenium.webdriver.support.ui import WebDriverWait\n",
    "from bs4 import BeautifulSoup\n",
    "\n",
    "\n",
    "from logging import getLogger, StreamHandler, DEBUG\n",
    "logger = getLogger(__name__)\n",
    "handler = StreamHandler()\n",
    "handler.setLevel(DEBUG)\n",
    "logger.setLevel(DEBUG)\n",
    "logger.addHandler(handler)\n",
    "logger.propagate = False\n",
    "\n",
    "# urlを指定\n",
    "url = 'https://note.mu/'\n",
    "\n",
    "# 読み込む投稿の多さを指定(amount * 10 投稿程度)\n",
    "amount = 5\n",
    "\n",
    "# 読み込み時に待機する時間の指定\n",
    "sleep_time = 7\n",
    "\n",
    "\n",
    "def main():\n",
    "    \"\"\"\n",
    "    メイン処理\n",
    "    \"\"\"\n",
    "    \n",
    "    # PhantomJS本体のパスを指定\n",
    "    pjs_path = r\"C:\\phantomjs-2.1.1\\bin\\phantomjs.exe\"\n",
    "    driver = webdriver.PhantomJS(executable_path=pjs_path)\n",
    "    \n",
    "    # ページの読み込み\n",
    "    navigate(driver, url, amount=amount, sleep_time=sleep_time)\n",
    "    \n",
    "    # データの抽出\n",
    "    posts = scrape_posts(driver, url)\n",
    "        \n",
    "    return posts\n",
    "\n",
    "\n",
    "def navigate(driver, url, amount=1, sleep_time = 5):\n",
    "    \"\"\"\n",
    "    目的のページに遷移する\n",
    "    amount >= 1\n",
    "    \"\"\"\n",
    "    \n",
    "    logger.debug('Navigating...')\n",
    "    driver.get(url)\n",
    "    assert 'note' in driver.title\n",
    "\n",
    "    # 指定した回数分、ページ下部までスクロールしてコンテンツの生成を待つ\n",
    "    for i in range(1, amount+1):\n",
    "        driver.execute_script('scroll(0, document.body.scrollHeight)')\n",
    "        logger.debug('Waiting for contents to be loaded...({0} times)'.format(i))\n",
    "        time.sleep(sleep_time)\n",
    "    \n",
    "\n",
    "def scrape_posts(driver, url):\n",
    "    \"\"\"\n",
    "    投稿のURL、タイトル、概要のdictをリスト形式で取得\n",
    "    \"\"\"\n",
    "    \n",
    "    posts = []\n",
    "    \n",
    "    # Seleniumで取得したHTMLをBeautifulSoup4に読み込む\n",
    "    html = driver.page_source\n",
    "    bsObj = BeautifulSoup(html,\"html.parser\")\n",
    "\n",
    "    for post_html in bsObj.findAll(\"div\",{\"class\":\"c-card__body\"}):\n",
    "        # 記事のURLを取得\n",
    "        content_url = post_html.find(\"h3\").find('a').attrs['href']\n",
    "        content_full_url = url + content_url[1:]\n",
    "\n",
    "        # 記事タイトルを取得\n",
    "        title = post_html.find(\"h3\").find('a').find('span').get_text()\n",
    "        title = title.replace('\\n', '') # 改行を削除\n",
    "\n",
    "        # 記事の概要を取得\n",
    "        try:\n",
    "            description = post_html.find(\"p\", {'class':'p-cardItem__description'}).get_text()\n",
    "            description = description.replace('\\n', '') # 改行を削除\n",
    "        except AttributeError as e:\n",
    "            description = '-no description-'\n",
    "            logger.debug(\"「{0}」 has no description: {1}\".format(title, e))\n",
    "\n",
    "        posts.append({\n",
    "            'url': content_full_url,\n",
    "            'title': title,\n",
    "            'description': description,\n",
    "            })\n",
    "    \n",
    "    return posts\n",
    "\n",
    "# if __name__ == '__main__':\n",
    "#     main()    "
   ]
  },
  {
   "cell_type": "code",
   "execution_count": null,
   "metadata": {},
   "outputs": [],
   "source": [
    "posts = main()"
   ]
  },
  {
   "cell_type": "markdown",
   "metadata": {},
   "source": [
    "## MongoDBにデータを保存"
   ]
  },
  {
   "cell_type": "markdown",
   "metadata": {},
   "source": [
    "mongoDBを起動しておく\n",
    "\n",
    "`mongod --dbpath \"${データベース用のディレクトリへのパス}\"`"
   ]
  },
  {
   "cell_type": "code",
   "execution_count": null,
   "metadata": {},
   "outputs": [],
   "source": [
    "from pymongo import MongoClient, DESCENDING # pip install pymongo\n",
    "\n",
    "mongo_client = MongoClient('localhost', 27017) # MongoDBと接続\n",
    "db = mongo_client.note\n",
    "collection = db.recomend # noteデータベース -> recomendコレクション\n",
    "collection.delete_many({}) # 既存の全てのドキュメントを削除しておく"
   ]
  },
  {
   "cell_type": "code",
   "execution_count": null,
   "metadata": {},
   "outputs": [],
   "source": [
    "def save_to_mongodb(collection, items):\n",
    "    \"\"\"\n",
    "    MongoDBにアイテムのリストを保存\n",
    "    \"\"\"\n",
    "\n",
    "    result = collection.insert_many(items) # コレクションに挿入\n",
    "    logger.debug('Inserted {0} documents'.format(len(result.inserted_ids)))"
   ]
  },
  {
   "cell_type": "code",
   "execution_count": null,
   "metadata": {},
   "outputs": [],
   "source": [
    "save_to_mongodb(collection, posts)"
   ]
  },
  {
   "cell_type": "markdown",
   "metadata": {},
   "source": [
    "## csv形式でデータを保存"
   ]
  },
  {
   "cell_type": "code",
   "execution_count": null,
   "metadata": {},
   "outputs": [],
   "source": [
    "import csv\n",
    "\n",
    "def save_as_csv(posts, csv_name):\n",
    "    # 列名（1行目）を作成\n",
    "    ## [タイトル、URL、概要]\n",
    "    col_name = ['title', 'url', 'description']\n",
    "\n",
    "    with open(csv_name, 'w', newline='', encoding='utf-8') as output_csv:\n",
    "        csv_writer = csv.writer(output_csv)\n",
    "        csv_writer.writerow(col_name) # 列名を記入\n",
    "\n",
    "        # データを整形しつつcsvに書き込んでいく\n",
    "        for post in posts:\n",
    "            row_items = [post['title'], post['url'], post['description']]\n",
    "            csv_writer.writerow(row_items)"
   ]
  },
  {
   "cell_type": "code",
   "execution_count": null,
   "metadata": {},
   "outputs": [],
   "source": [
    "# =====\n",
    "# MongoDBを経由する場合\n",
    "# from pymongo import MongoClient, DESCENDING # pip install pymongo\n",
    "\n",
    "# mongo_client = MongoClient('localhost', 27017) # MongoDBと接続\n",
    "# db = mongo_client.note\n",
    "# collection = db.recomend # noteデータベース -> recomendコレクション\n",
    "# posts = collection.find()\n",
    "\n",
    "# MongoDBを使用しない場合\n",
    "posts = posts\n",
    "# =====\n",
    "\n",
    "csv_name = 'note_list.csv'\n",
    "\n",
    "save_as_csv(posts, csv_name)"
   ]
  },
  {
   "cell_type": "markdown",
   "metadata": {},
   "source": [
    "## RSSフィードの生成"
   ]
  },
  {
   "cell_type": "code",
   "execution_count": null,
   "metadata": {},
   "outputs": [],
   "source": [
    "import feedgenerator # pip install feedgenerator\n",
    "\n",
    "def save_as_feed(f, posts):\n",
    "    \"\"\"\n",
    "    コンテンツリストをRSSフィードとして保存\n",
    "    \"\"\"\n",
    "    \n",
    "    feed = feedgenerator.Rss201rev2Feed(\n",
    "        title='おすすめノート',\n",
    "        link='https://note.mu/',\n",
    "        description='おすすめノート')\n",
    "    \n",
    "    for post in posts:\n",
    "        feed.add_item(title=post['title'], link=post['url'],\n",
    "                     description=post['description'], unique_id=post['url'])\n",
    "        \n",
    "    feed.write(f, 'utf-8')"
   ]
  },
  {
   "cell_type": "code",
   "execution_count": null,
   "metadata": {},
   "outputs": [],
   "source": [
    "# =====\n",
    "# MongoDBを経由する場合\n",
    "# from pymongo import MongoClient, DESCENDING # pip install pymongo\n",
    "\n",
    "# mongo_client = MongoClient('localhost', 27017) # MongoDBと接続\n",
    "# db = mongo_client.note\n",
    "# collection = db.recomend # noteデータベース -> recomendコレクション\n",
    "# posts = collection.find()\n",
    "\n",
    "# MongoDBを使用しない場合\n",
    "posts = posts\n",
    "# =====\n",
    "\n",
    "with open('note_recommend.rss', 'w', encoding='utf-8') as f:\n",
    "    save_as_feed(f, posts)"
   ]
  }
 ],
 "metadata": {
  "kernelspec": {
   "display_name": "Python 3",
   "language": "python",
   "name": "python3"
  },
  "language_info": {
   "codemirror_mode": {
    "name": "ipython",
    "version": 3
   },
   "file_extension": ".py",
   "mimetype": "text/x-python",
   "name": "python",
   "nbconvert_exporter": "python",
   "pygments_lexer": "ipython3",
   "version": "3.7.0"
  }
 },
 "nbformat": 4,
 "nbformat_minor": 2
}
